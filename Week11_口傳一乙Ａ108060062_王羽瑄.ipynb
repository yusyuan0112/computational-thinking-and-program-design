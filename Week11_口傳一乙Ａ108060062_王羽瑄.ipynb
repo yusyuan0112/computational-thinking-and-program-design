{
  "nbformat": 4,
  "nbformat_minor": 0,
  "metadata": {
    "colab": {
      "name": "Week11 口傳一乙Ａ108060062 王羽瑄.ipynb",
      "provenance": [],
      "authorship_tag": "ABX9TyMThkaNmOa6aryc8upcuLul",
      "include_colab_link": true
    },
    "kernelspec": {
      "name": "python3",
      "display_name": "Python 3"
    }
  },
  "cells": [
    {
      "cell_type": "markdown",
      "metadata": {
        "id": "view-in-github",
        "colab_type": "text"
      },
      "source": [
        "<a href=\"https://colab.research.google.com/github/yusyuan0112/computational-thinking-and-program-design/blob/master/Week11_%E5%8F%A3%E5%82%B3%E4%B8%80%E4%B9%99%EF%BC%A1108060062_%E7%8E%8B%E7%BE%BD%E7%91%84.ipynb\" target=\"_parent\"><img src=\"https://colab.research.google.com/assets/colab-badge.svg\" alt=\"Open In Colab\"/></a>"
      ]
    },
    {
      "cell_type": "code",
      "metadata": {
        "id": "3gsEbaQX7DFQ",
        "colab_type": "code",
        "outputId": "79484f1a-f3d1-42a3-cf95-75e42aaf2aee",
        "colab": {
          "base_uri": "https://localhost:8080/",
          "height": 391
        }
      },
      "source": [
        "print(\"哈囉。我是Zyxo 64。我是一個聊天機器人。\") \n",
        "print(\"我喜歡動物，也喜歡聊食物。\")\n",
        "name = input(\"你叫什麼名字?: \")\n",
        "print(\"你好\", name, \"很高興認識你\")\n",
        "year = input(\"我記不太清楚日期。今年是幾年?: \")\n",
        "print(\"好的，我覺得沒錯。謝謝!\")\n",
        "myage = input(\"你能猜出我的年齡嗎? - 輸入一個數字: \")\n",
        "print(\"沒錯，你猜對了。我\", myage)\n",
        "myage = int(myage)\n",
        "nyears = 100 - myage\n",
        "print(\"我再\", nyears, \"年就滿100歲了。\")\n",
        "print(\"到時候是\", int(year) + nyears)\n",
        "print(\"我喜歡巧克力，也喜歡嘗試各種新食物。\") \n",
        "food = input(\"你呢。你最喜歡的食物是什麼?: \") \n",
        "print(\"我也喜歡\", food)\n",
        "question = \"你多久吃一次\" + food + \"?: \" \n",
        "howoften = input(question) \n",
        "print(\"真有趣。不知道這樣對健康好不好!\")\n",
        "animal = input(\"我最喜歡的動物是長頸鹿。你呢?; \") \n",
        "print(animal, \"! 我不喜歡。\")\n",
        "print(\"不知道\", animal, \"喜不喜歡吃\", food, \"?\")\n",
        "feeling = input(\"你今天覺得如何?; \") \n",
        "print(\"為什麼你現在覺得\", feeling, \"呢?\") \n",
        "reason = input(\"請告訴我: \") \n",
        "print(\"我知道了。謝謝分享。\")"
      ],
      "execution_count": 3,
      "outputs": [
        {
          "output_type": "stream",
          "text": [
            "哈囉。我是Zyxo 64。我是一個聊天機器人。\n",
            "我喜歡動物，也喜歡聊食物。\n",
            "你叫什麼名字?: 王羽瑄\n",
            "你好 王羽瑄 很高興認識你\n",
            "我記不太清楚日期。今年是幾年?: 2020\n",
            "好的，我覺得沒錯。謝謝!\n",
            "你能猜出我的年齡嗎? - 輸入一個數字: 20\n",
            "沒錯，你猜對了。我 20\n",
            "我再 80 年就滿100歲了。\n",
            "到時候是 2100\n",
            "我喜歡巧克力，也喜歡嘗試各種新食物。\n",
            "你呢。你最喜歡的食物是什麼?: 生魚片\n",
            "我也喜歡 生魚片\n",
            "你多久吃一次生魚片?: 一個月一次\n",
            "真有趣。不知道這樣對健康好不好!\n",
            "我最喜歡的動物是長頸鹿。你呢?; 柯基\n",
            "柯基 ! 我不喜歡。\n",
            "不知道 柯基 喜不喜歡吃 生魚片 ?\n",
            "你今天覺得如何?; 還不錯\n",
            "為什麼你現在覺得 還不錯 呢?\n",
            "請告訴我: 因為沒發生不開心的事\n",
            "我知道了。謝謝分享。\n"
          ],
          "name": "stdout"
        }
      ]
    },
    {
      "cell_type": "code",
      "metadata": {
        "id": "e9hib17m9W3Z",
        "colab_type": "code",
        "colab": {}
      },
      "source": [
        ""
      ],
      "execution_count": 0,
      "outputs": []
    }
  ]
}