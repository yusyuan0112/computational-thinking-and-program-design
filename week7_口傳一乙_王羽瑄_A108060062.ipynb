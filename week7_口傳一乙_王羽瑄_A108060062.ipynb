{
  "nbformat": 4,
  "nbformat_minor": 0,
  "metadata": {
    "colab": {
      "name": "week7 口傳一乙 王羽瑄 A108060062.ipynb",
      "provenance": [],
      "authorship_tag": "ABX9TyNeZCW5bqRJZ46j9MmmNUxy",
      "include_colab_link": true
    },
    "kernelspec": {
      "name": "python3",
      "display_name": "Python 3"
    }
  },
  "cells": [
    {
      "cell_type": "markdown",
      "metadata": {
        "id": "view-in-github",
        "colab_type": "text"
      },
      "source": [
        "<a href=\"https://colab.research.google.com/github/yusyuan0112/computational-thinking-and-program-design/blob/master/week7_%E5%8F%A3%E5%82%B3%E4%B8%80%E4%B9%99_%E7%8E%8B%E7%BE%BD%E7%91%84_A108060062.ipynb\" target=\"_parent\"><img src=\"https://colab.research.google.com/assets/colab-badge.svg\" alt=\"Open In Colab\"/></a>"
      ]
    },
    {
      "cell_type": "code",
      "metadata": {
        "id": "Gp8vT22KUc6S",
        "colab_type": "code",
        "colab": {
          "base_uri": "https://localhost:8080/",
          "height": 153
        },
        "outputId": "d8c2b0b6-9b28-47ac-f354-e7dc80a04135"
      },
      "source": [
        "Tv_show='梨泰院class'#電視名稱\n",
        "Release_year='2020'#上映時間\n",
        "Episode='16集'#集數\n",
        "Director='金成允'#導演\n",
        "Main_actor='朴敘俊'#男主角\n",
        "Main_actress='金多美'#女主角\n",
        "Ratings='11.832%'#收視率\n",
        "Language='韓文'#語言\n",
        "print(Tv_show)\n",
        "print(Release_year)\n",
        "print(Episode)\n",
        "print(Director)\n",
        "print(Main_actor)\n",
        "print(Main_actress)\n",
        "print(Ratings)\n",
        "print(Language)"
      ],
      "execution_count": 4,
      "outputs": [
        {
          "output_type": "stream",
          "text": [
            "梨泰院class\n",
            "2020\n",
            "16集\n",
            "金成允\n",
            "朴敘俊\n",
            "金多美\n",
            "11.832%\n",
            "韓文\n"
          ],
          "name": "stdout"
        }
      ]
    },
    {
      "cell_type": "code",
      "metadata": {
        "id": "tfcwMCurY9tT",
        "colab_type": "code",
        "colab": {}
      },
      "source": [
        ""
      ],
      "execution_count": 0,
      "outputs": []
    }
  ]
}