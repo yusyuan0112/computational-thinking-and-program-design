{
  "nbformat": 4,
  "nbformat_minor": 0,
  "metadata": {
    "colab": {
      "name": "week8 口傳一乙 A108060062 王羽瑄.ipynb",
      "provenance": [],
      "authorship_tag": "ABX9TyM7i5d/ZaZfFerjClSjN2DR",
      "include_colab_link": true
    },
    "kernelspec": {
      "name": "python3",
      "display_name": "Python 3"
    }
  },
  "cells": [
    {
      "cell_type": "markdown",
      "metadata": {
        "id": "view-in-github",
        "colab_type": "text"
      },
      "source": [
        "<a href=\"https://colab.research.google.com/github/yusyuan0112/computational-thinking-and-program-design/blob/master/week8_%E5%8F%A3%E5%82%B3%E4%B8%80%E4%B9%99_A108060062_%E7%8E%8B%E7%BE%BD%E7%91%84.ipynb\" target=\"_parent\"><img src=\"https://colab.research.google.com/assets/colab-badge.svg\" alt=\"Open In Colab\"/></a>"
      ]
    },
    {
      "cell_type": "code",
      "metadata": {
        "id": "PU73KDnOG7jc",
        "colab_type": "code",
        "colab": {
          "base_uri": "https://localhost:8080/",
          "height": 119
        },
        "outputId": "82dfb1e3-dd33-42a6-eea8-07048dc75808"
      },
      "source": [
        "hours=input('movie times hours:')\n",
        "minutes=input('movie times minutes:')\n",
        "\n",
        "hours=int(hours)\n",
        "minutes=int(minutes)\n",
        "\n",
        "length=hours*60+minutes\n",
        "print(hours,'hours',minutes,'minutes','movie length is',length,'minutes')\n",
        "\n",
        "hours1=length//60\n",
        "print(hours1)\n",
        "\n",
        "minutes1=length%60\n",
        "print(minutes1)\n",
        "\n",
        "print(length,'minutes equals',hours1,'hours',minutes1,'minutes')"
      ],
      "execution_count": 3,
      "outputs": [
        {
          "output_type": "stream",
          "text": [
            "movie times hours:2\n",
            "movie times minutes:13\n",
            "2 hours 13 minutes movie length is 133 minutes\n",
            "2\n",
            "13\n",
            "133 minutes equals 2 hours 13 minutes\n"
          ],
          "name": "stdout"
        }
      ]
    },
    {
      "cell_type": "code",
      "metadata": {
        "id": "wPMS-LbVMnTK",
        "colab_type": "code",
        "colab": {}
      },
      "source": [
        ""
      ],
      "execution_count": 0,
      "outputs": []
    }
  ]
}