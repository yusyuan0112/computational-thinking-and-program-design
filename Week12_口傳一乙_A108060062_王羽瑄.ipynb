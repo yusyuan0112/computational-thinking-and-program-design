{
  "nbformat": 4,
  "nbformat_minor": 0,
  "metadata": {
    "colab": {
      "name": "Week12 口傳一乙 A108060062 王羽瑄.ipynb",
      "provenance": [],
      "authorship_tag": "ABX9TyMdQ51j394a+iju0D+IPacw",
      "include_colab_link": true
    },
    "kernelspec": {
      "name": "python3",
      "display_name": "Python 3"
    }
  },
  "cells": [
    {
      "cell_type": "markdown",
      "metadata": {
        "id": "view-in-github",
        "colab_type": "text"
      },
      "source": [
        "<a href=\"https://colab.research.google.com/github/yusyuan0112/computational-thinking-and-program-design/blob/master/Week12_%E5%8F%A3%E5%82%B3%E4%B8%80%E4%B9%99_A108060062_%E7%8E%8B%E7%BE%BD%E7%91%84.ipynb\" target=\"_parent\"><img src=\"https://colab.research.google.com/assets/colab-badge.svg\" alt=\"Open In Colab\"/></a>"
      ]
    },
    {
      "cell_type": "code",
      "metadata": {
        "id": "Y_D8bWe3zCQ4",
        "colab_type": "code",
        "colab": {
          "base_uri": "https://localhost:8080/",
          "height": 71
        },
        "outputId": "d6429075-37bc-43d5-d86e-85601b0d8825"
      },
      "source": [
        "noodle=input(\"有麵嗎?(yes/no)\")\n",
        "sauce=input(\"有醬料嗎?(yes/no)\")\n",
        "if noodle==\"yes\":\n",
        "  if sauce==\"yes\":\n",
        "    print(\"可做義大利麵!\")\n",
        "print(\"well done!\")"
      ],
      "execution_count": 5,
      "outputs": [
        {
          "output_type": "stream",
          "text": [
            "有麵嗎?(yes/no)Yes\n",
            "有醬料嗎?(yes/no)Yes\n",
            "well done!\n"
          ],
          "name": "stdout"
        }
      ]
    },
    {
      "cell_type": "code",
      "metadata": {
        "id": "hZJ93Tx-zRY6",
        "colab_type": "code",
        "colab": {
          "base_uri": "https://localhost:8080/",
          "height": 53
        },
        "outputId": "7d02ad05-98c6-4672-9ee9-fd90ff8bf6f5"
      },
      "source": [
        "noodle=input(\"有麵嗎?(yes/no)\")\n",
        "sauce=input(\"有醬料嗎?(yes/no)\")\n",
        "if noodle==\"yes\" and sauce==\"yes\":\n",
        "  print(\"今天晚上吃義大利麵!\")"
      ],
      "execution_count": 6,
      "outputs": [
        {
          "output_type": "stream",
          "text": [
            "有麵嗎?(yes/no)Yes\n",
            "有醬料嗎?(yes/no)Yes\n"
          ],
          "name": "stdout"
        }
      ]
    }
  ]
}