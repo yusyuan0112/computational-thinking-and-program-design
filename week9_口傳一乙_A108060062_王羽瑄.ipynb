{
  "nbformat": 4,
  "nbformat_minor": 0,
  "metadata": {
    "colab": {
      "name": "week9 口傳一乙 A108060062 王羽瑄.ipynb",
      "provenance": [],
      "authorship_tag": "ABX9TyMYmSyaG/ClmKIFGE0bPYL9",
      "include_colab_link": true
    },
    "kernelspec": {
      "name": "python3",
      "display_name": "Python 3"
    }
  },
  "cells": [
    {
      "cell_type": "markdown",
      "metadata": {
        "id": "view-in-github",
        "colab_type": "text"
      },
      "source": [
        "<a href=\"https://colab.research.google.com/github/yusyuan0112/computational-thinking-and-program-design/blob/master/week9_%E5%8F%A3%E5%82%B3%E4%B8%80%E4%B9%99_A108060062_%E7%8E%8B%E7%BE%BD%E7%91%84.ipynb\" target=\"_parent\"><img src=\"https://colab.research.google.com/assets/colab-badge.svg\" alt=\"Open In Colab\"/></a>"
      ]
    },
    {
      "cell_type": "code",
      "metadata": {
        "id": "tIU_TrE4hP1V",
        "colab_type": "code",
        "outputId": "e24a9246-bbfc-4431-ca72-b50b067a616f",
        "colab": {
          "base_uri": "https://localhost:8080/",
          "height": 54
        }
      },
      "source": [
        "座號=int(input('請輸入座號'))\n",
        "組別=(座號-1)//5+1\n",
        "print('組別為',組別)"
      ],
      "execution_count": 0,
      "outputs": [
        {
          "output_type": "stream",
          "text": [
            "請輸入座號28\n",
            "組別為 6\n"
          ],
          "name": "stdout"
        }
      ]
    },
    {
      "cell_type": "code",
      "metadata": {
        "id": "szcLiGOYjH5s",
        "colab_type": "code",
        "outputId": "7bd8f101-1c7a-47ce-dc81-941d721d572b",
        "colab": {
          "base_uri": "https://localhost:8080/",
          "height": 72
        }
      },
      "source": [
        "r= float(input('請輸入圓的半徑:'))\n",
        "import math\n",
        "面積=math.pi*r*r\n",
        "圓周長=2*math.pi*r\n",
        "print('圓的面積為',面積)\n",
        "print('員的周長為',圓周長)"
      ],
      "execution_count": 0,
      "outputs": [
        {
          "output_type": "stream",
          "text": [
            "請輸入圓的半徑:10\n",
            "圓的面積為 314.1592653589793\n",
            "員的周長為 62.83185307179586\n"
          ],
          "name": "stdout"
        }
      ]
    },
    {
      "cell_type": "code",
      "metadata": {
        "id": "sYrOJobjoXT8",
        "colab_type": "code",
        "outputId": "b3b01f84-47cf-4490-dd6a-137b8731a7ff",
        "colab": {
          "base_uri": "https://localhost:8080/",
          "height": 54
        }
      },
      "source": [
        "攝氏溫度=float(input('請輸入攝氏溫度:'))\n",
        "華氏溫度=攝氏溫度*9/5+32\n",
        "print('華氏溫度為',華氏溫度)"
      ],
      "execution_count": 0,
      "outputs": [
        {
          "output_type": "stream",
          "text": [
            "請輸入攝氏溫度:30\n",
            "華氏溫度為 86.0\n"
          ],
          "name": "stdout"
        }
      ]
    }
  ]
}