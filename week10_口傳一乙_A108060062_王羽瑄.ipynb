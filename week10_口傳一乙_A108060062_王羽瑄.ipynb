{
  "nbformat": 4,
  "nbformat_minor": 0,
  "metadata": {
    "colab": {
      "name": "week10 口傳一乙 A108060062 王羽瑄.ipynb",
      "provenance": [],
      "authorship_tag": "ABX9TyPZFBTRyWChsxi0W/DRaSLJ",
      "include_colab_link": true
    },
    "kernelspec": {
      "name": "python3",
      "display_name": "Python 3"
    }
  },
  "cells": [
    {
      "cell_type": "markdown",
      "metadata": {
        "id": "view-in-github",
        "colab_type": "text"
      },
      "source": [
        "<a href=\"https://colab.research.google.com/github/yusyuan0112/computational-thinking-and-program-design/blob/master/week10_%E5%8F%A3%E5%82%B3%E4%B8%80%E4%B9%99_A108060062_%E7%8E%8B%E7%BE%BD%E7%91%84.ipynb\" target=\"_parent\"><img src=\"https://colab.research.google.com/assets/colab-badge.svg\" alt=\"Open In Colab\"/></a>"
      ]
    },
    {
      "cell_type": "code",
      "metadata": {
        "id": "LZ5Bd1bJ9J3Y",
        "colab_type": "code",
        "outputId": "559059b1-8e89-4492-a9e7-baf284afbb50",
        "colab": {
          "base_uri": "https://localhost:8080/",
          "height": 85
        }
      },
      "source": [
        "上衣=int(input('請輸入價錢'))\n",
        "褲子=int(input('請輸入價錢'))\n",
        "背心=int(input('請輸入價錢'))\n",
        "一件衣服=1*上衣\n",
        "兩件褲子=2*褲子\n",
        "三件背心=3*背心\n",
        "print('總金額為',一件衣服+兩件褲子+三件背心)"
      ],
      "execution_count": 0,
      "outputs": [
        {
          "output_type": "stream",
          "text": [
            "請輸入價錢300\n",
            "請輸入價錢350\n",
            "請輸入價錢400\n",
            "總金額為 2200\n"
          ],
          "name": "stdout"
        }
      ]
    },
    {
      "cell_type": "code",
      "metadata": {
        "id": "WG1_8qtG9YNP",
        "colab_type": "code",
        "outputId": "694f78d7-9fc6-4544-a07d-a05a02ae7954",
        "colab": {
          "base_uri": "https://localhost:8080/",
          "height": 51
        }
      },
      "source": [
        "數量=int(input('請輸入數量'))\n",
        "一打=數量// 12\n",
        "不足一打=數量 % 12\n",
        "金額=一打*200+不足一打*20\n",
        "print(\"總金額為\",金額)"
      ],
      "execution_count": 0,
      "outputs": [
        {
          "output_type": "stream",
          "text": [
            "請輸入數量20\n",
            "總金額為 360\n"
          ],
          "name": "stdout"
        }
      ]
    },
    {
      "cell_type": "code",
      "metadata": {
        "id": "0AYh9OUY9gIg",
        "colab_type": "code",
        "outputId": "7321cdb2-dc5c-45ad-ed7d-e5322aca1886",
        "colab": {
          "base_uri": "https://localhost:8080/",
          "height": 102
        }
      },
      "source": [
        "a=int(input(\"請輸入第一次期中考成績\"))\n",
        "b=int(input(\"請輸入第二次期中考成績\"))\n",
        "c=int(input(\"請輸入第一次期末考成績\"))\n",
        "總分數=a+b+c\n",
        "平均分數=(a+b+c)//3\n",
        "print(\"總分數為\",總分數)\n",
        "print(\"平均分數為\",平均分數)"
      ],
      "execution_count": 0,
      "outputs": [
        {
          "output_type": "stream",
          "text": [
            "請輸入第一次期中考成績60\n",
            "請輸入第二次期中考成績90\n",
            "請輸入第一次期末考成績66\n",
            "總分數為 216\n",
            "平均分數為 72\n"
          ],
          "name": "stdout"
        }
      ]
    },
    {
      "cell_type": "code",
      "metadata": {
        "id": "WZ38z4LS9lsu",
        "colab_type": "code",
        "colab": {}
      },
      "source": [
        ""
      ],
      "execution_count": 0,
      "outputs": []
    }
  ]
}