{
  "nbformat": 4,
  "nbformat_minor": 0,
  "metadata": {
    "colab": {
      "name": "week14 口傳 一乙A108060062王羽瑄.ipynb",
      "provenance": [],
      "authorship_tag": "ABX9TyPUC9tWxwa14NVIk7grogTe",
      "include_colab_link": true
    },
    "kernelspec": {
      "name": "python3",
      "display_name": "Python 3"
    }
  },
  "cells": [
    {
      "cell_type": "markdown",
      "metadata": {
        "id": "view-in-github",
        "colab_type": "text"
      },
      "source": [
        "<a href=\"https://colab.research.google.com/github/yusyuan0112/computational-thinking-and-program-design/blob/master/week14_%E5%8F%A3%E5%82%B3_%E4%B8%80%E4%B9%99A108060062%E7%8E%8B%E7%BE%BD%E7%91%84.ipynb\" target=\"_parent\"><img src=\"https://colab.research.google.com/assets/colab-badge.svg\" alt=\"Open In Colab\"/></a>"
      ]
    },
    {
      "cell_type": "code",
      "metadata": {
        "id": "2dPB9Bwjw1sa",
        "colab_type": "code",
        "outputId": "eee9122f-41ee-4881-de73-415d35dce35f",
        "colab": {
          "base_uri": "https://localhost:8080/",
          "height": 108
        }
      },
      "source": [
        "weight = int(input(\"體重(kg): \"))\n",
        "height = int(input(\"身高(cm): \"))\n",
        "height = height / 100\n",
        "BMI=weight/(height)**2\n",
        "print(\"BMI 計算結果 = \" + str(BMI))\n",
        "print(\"您的BMI數值是 =\", round(BMI, 2))\n",
        "\n",
        "if BMI <18.5:\n",
        "    print(\"[體重判定->過瘦]\")\n",
        "elif BMI <= 23.9:\n",
        "    print (\"[體重判定->正常]\")\n",
        "elif BMI <=27:\n",
        "    print (\"[體重判定->過重]\")"
      ],
      "execution_count": 0,
      "outputs": [
        {
          "output_type": "stream",
          "text": [
            "體重(kg): 53\n",
            "身高(cm): 159\n",
            "BMI 計算結果 = 20.964360587002094\n",
            "您的BMI數值是 = 20.96\n",
            "[體重判定->正常]\n"
          ],
          "name": "stdout"
        }
      ]
    },
    {
      "cell_type": "code",
      "metadata": {
        "id": "9iEFGKS5DvVh",
        "colab_type": "code",
        "colab": {
          "base_uri": "https://localhost:8080/",
          "height": 197
        },
        "outputId": "3c352320-f754-4140-e9d7-251ca91f8226"
      },
      "source": [
        "i = 1      \n",
        "while i <= 10:\n",
        "        print(\"hello\") \n",
        "        i += 1 "
      ],
      "execution_count": 1,
      "outputs": [
        {
          "output_type": "stream",
          "text": [
            "hello\n",
            "hello\n",
            "hello\n",
            "hello\n",
            "hello\n",
            "hello\n",
            "hello\n",
            "hello\n",
            "hello\n",
            "hello\n"
          ],
          "name": "stdout"
        }
      ]
    },
    {
      "cell_type": "code",
      "metadata": {
        "id": "eqR_7s_Q33ma",
        "colab_type": "code",
        "colab": {}
      },
      "source": [
        ""
      ],
      "execution_count": 0,
      "outputs": []
    }
  ]
}