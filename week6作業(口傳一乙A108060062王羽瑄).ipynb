{
  "nbformat": 4,
  "nbformat_minor": 0,
  "metadata": {
    "colab": {
      "name": "week6作業(口傳一乙A108060062王羽瑄).ipynb",
      "provenance": [],
      "include_colab_link": true
    },
    "kernelspec": {
      "name": "python3",
      "display_name": "Python 3"
    }
  },
  "cells": [
    {
      "cell_type": "markdown",
      "metadata": {
        "id": "view-in-github",
        "colab_type": "text"
      },
      "source": [
        "<a href=\"https://colab.research.google.com/github/yusyuan0112/computational-thinking-and-program-design/blob/master/week6%E4%BD%9C%E6%A5%AD(%E5%8F%A3%E5%82%B3%E4%B8%80%E4%B9%99A108060062%E7%8E%8B%E7%BE%BD%E7%91%84).ipynb\" target=\"_parent\"><img src=\"https://colab.research.google.com/assets/colab-badge.svg\" alt=\"Open In Colab\"/></a>"
      ]
    },
    {
      "cell_type": "code",
      "metadata": {
        "id": "a-fUMR2lSfBG",
        "colab_type": "code",
        "outputId": "6fb92708-38da-4757-a13b-93d01541ae32",
        "colab": {
          "base_uri": "https://localhost:8080/",
          "height": 34
        }
      },
      "source": [
        "print(\"我的年紀是19歲\")"
      ],
      "execution_count": 0,
      "outputs": [
        {
          "output_type": "stream",
          "text": [
            "我的年紀是19歲\n"
          ],
          "name": "stdout"
        }
      ]
    },
    {
      "cell_type": "code",
      "metadata": {
        "id": "HCMQL2WGU1Q9",
        "colab_type": "code",
        "outputId": "08a4627d-4e71-46e4-8899-7aaff26aefc7",
        "colab": {
          "base_uri": "https://localhost:8080/",
          "height": 34
        }
      },
      "source": [
        "year=19\n",
        "print(\"我的年紀是\",year,\"歲\")"
      ],
      "execution_count": 0,
      "outputs": [
        {
          "output_type": "stream",
          "text": [
            "我的年紀是 19 歲\n"
          ],
          "name": "stdout"
        }
      ]
    },
    {
      "cell_type": "code",
      "metadata": {
        "id": "Om5gibEBXBl2",
        "colab_type": "code",
        "outputId": "ab808ad7-5f59-4f11-d2b7-a58c9340dc0e",
        "colab": {
          "base_uri": "https://localhost:8080/",
          "height": 51
        }
      },
      "source": [
        "year=input(\"請輸入你的年紀\")\n",
        "print(\"我的年紀是\",year,\"歲\")"
      ],
      "execution_count": 0,
      "outputs": [
        {
          "output_type": "stream",
          "text": [
            "請輸入你的年紀19\n",
            "我的年紀是 19 歲\n"
          ],
          "name": "stdout"
        }
      ]
    },
    {
      "cell_type": "code",
      "metadata": {
        "id": "-_6hWDG4XmLB",
        "colab_type": "code",
        "outputId": "e8f6019f-f9a6-4c84-ec69-dc200af04d95",
        "colab": {
          "base_uri": "https://localhost:8080/",
          "height": 34
        }
      },
      "source": [
        "print(\"我的名字是王羽瑄\")"
      ],
      "execution_count": 0,
      "outputs": [
        {
          "output_type": "stream",
          "text": [
            "我的名字是王羽瑄\n"
          ],
          "name": "stdout"
        }
      ]
    },
    {
      "cell_type": "code",
      "metadata": {
        "id": "gbJSNGZ2bqqq",
        "colab_type": "code",
        "outputId": "24faf250-bc6b-4c39-8d7e-312064291bee",
        "colab": {
          "base_uri": "https://localhost:8080/",
          "height": 34
        }
      },
      "source": [
        "name=\"王羽瑄\"\n",
        "print(\"我的名字是\",name)"
      ],
      "execution_count": 2,
      "outputs": [
        {
          "output_type": "stream",
          "text": [
            "我的名字是 王羽瑄\n"
          ],
          "name": "stdout"
        }
      ]
    },
    {
      "cell_type": "code",
      "metadata": {
        "id": "2pNrQjEAcEMJ",
        "colab_type": "code",
        "outputId": "b48a99fa-90ca-4932-ec31-b260d52f71f2",
        "colab": {
          "base_uri": "https://localhost:8080/",
          "height": 51
        }
      },
      "source": [
        "name=input(\"請輸入你的名字\")\n",
        "print(\"我的名字是\",name)"
      ],
      "execution_count": 0,
      "outputs": [
        {
          "output_type": "stream",
          "text": [
            "請輸入你的名字王羽瑄\n",
            "我的名字是 王羽瑄\n"
          ],
          "name": "stdout"
        }
      ]
    },
    {
      "cell_type": "code",
      "metadata": {
        "id": "91FpO3vefMff",
        "colab_type": "code",
        "outputId": "f346053b-c93d-43fb-cbb4-9ca1d8bec49e",
        "colab": {
          "base_uri": "https://localhost:8080/",
          "height": 34
        }
      },
      "source": [
        "print(\"我的體重是53公斤\")"
      ],
      "execution_count": 0,
      "outputs": [
        {
          "output_type": "stream",
          "text": [
            "我的體重是53公斤\n"
          ],
          "name": "stdout"
        }
      ]
    },
    {
      "cell_type": "code",
      "metadata": {
        "id": "yKSp_Jnygx26",
        "colab_type": "code",
        "outputId": "2b1ef3e7-be8c-4624-8051-38c66ab0f516",
        "colab": {
          "base_uri": "https://localhost:8080/",
          "height": 34
        }
      },
      "source": [
        "kg=53\n",
        "print(\"我的體重是\",kg,\"公斤\")"
      ],
      "execution_count": 0,
      "outputs": [
        {
          "output_type": "stream",
          "text": [
            "我的體重是 53 公斤\n"
          ],
          "name": "stdout"
        }
      ]
    },
    {
      "cell_type": "code",
      "metadata": {
        "id": "36q6IvjDhFJB",
        "colab_type": "code",
        "outputId": "32f47454-92b5-4dbf-9409-bd2b587530b5",
        "colab": {
          "base_uri": "https://localhost:8080/",
          "height": 51
        }
      },
      "source": [
        "kg=input(\"請輸入你的體重\")\n",
        "print(\"我的體重是\",kg,\"公斤\")"
      ],
      "execution_count": 0,
      "outputs": [
        {
          "output_type": "stream",
          "text": [
            "請輸入你的體重53\n",
            "我的體重是 53 公斤\n"
          ],
          "name": "stdout"
        }
      ]
    },
    {
      "cell_type": "code",
      "metadata": {
        "id": "87o6063ihZbI",
        "colab_type": "code",
        "colab": {}
      },
      "source": [
        ""
      ],
      "execution_count": 0,
      "outputs": []
    }
  ]
}